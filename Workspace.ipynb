{
  "nbformat": 4,
  "nbformat_minor": 0,
  "metadata": {
    "colab": {
      "name": "LisaHack.ipynb",
      "provenance": [],
      "collapsed_sections": []
    },
    "kernelspec": {
      "name": "python3",
      "display_name": "Python 3"
    },
    "accelerator": "GPU"
  },
  "cells": [
    {
      "cell_type": "code",
      "metadata": {
        "id": "ds-X0RRtXNKZ",
        "colab_type": "code",
        "colab": {}
      },
      "source": [
        "import os\n",
        "from google.colab import drive\n",
        "drive.mount('/content/drive')\n",
        "os.symlink('/content/drive/My Drive/LisaSSD', '/content/project')\n"
      ],
      "execution_count": 0,
      "outputs": []
    },
    {
      "cell_type": "code",
      "metadata": {
        "id": "zJTuph-j3k7w",
        "colab_type": "code",
        "colab": {}
      },
      "source": [
        "# LISA dataset prepare\n",
        "%cd /content/project\n",
        "!wget http://cvrr.ucsd.edu/LISA/Datasets/signDatabasePublicFramesOnly.zip\n",
        "!git clone https://github.com/sooxt98/Lisa-MobileNetV3\n",
        "!mkdir lisa\n",
        "!unzip signDatabasePublicFramesOnly.zip -d lisa\n",
        "\n",
        "# tensor setup for LISA\n",
        "!git clone https://github.com/tensorflow/models/\n",
        "!cd models/research && export PYTHONPATH=$PYTHONPATH:pwd:pwd/slim\n",
        "!cd models/research && protoc ./object_detection/protos/*.proto --python_out=.\n",
        "!cd models/research && sudo python setup.py install\n",
        "!cd models/research/slim && sudo python setup.py install"
      ],
      "execution_count": 0,
      "outputs": []
    },
    {
      "cell_type": "code",
      "metadata": {
        "id": "NZO6_9pkXWHi",
        "colab_type": "code",
        "colab": {}
      },
      "source": [
        "# Only for resume session\n",
        "%cd /content/project/models/research\n",
        "!export PYTHONPATH=$PYTHONPATH:pwd:pwd/slim\n",
        "!protoc ./object_detection/protos/*.proto --python_out=.\n",
        "!sudo python setup.py install\n",
        "\n",
        "%cd /content/project/models/research/slim\n",
        "!sudo python setup.py install"
      ],
      "execution_count": 0,
      "outputs": []
    },
    {
      "cell_type": "code",
      "metadata": {
        "id": "zf85osYvXo24",
        "colab_type": "code",
        "colab": {}
      },
      "source": [
        "# Let's train with GPU\n",
        "%%shell\n",
        "PIPELINE_CONFIG_PATH=/content/project/Lisa-MobileNetV3/ssdlite_mobilenet_v3_large_320x320_coco.config\n",
        "MODEL_DIR=/content/project/output\n",
        "NUM_TRAIN_STEPS=40000\n",
        "SAMPLE_1_OF_N_EVAL_EXAMPLES=1\n",
        "python /content/project/models/research/object_detection/model_main.py \\\n",
        "    --pipeline_config_path=${PIPELINE_CONFIG_PATH} \\\n",
        "    --model_dir=${MODEL_DIR} \\\n",
        "    --num_train_steps=${NUM_TRAIN_STEPS} \\\n",
        "    --sample_1_of_n_eval_examples=$SAMPLE_1_OF_N_EVAL_EXAMPLES \\\n",
        "    --alsologtostderr"
      ],
      "execution_count": 0,
      "outputs": []
    },
    {
      "cell_type": "code",
      "metadata": {
        "id": "GKtxJRQTYx2r",
        "colab_type": "code",
        "colab": {}
      },
      "source": [
        "%cd /content/project\n",
        "!rm -rf Lisa-MobileNetV3\n",
        "!git clone https://github.com/sooxt98/Lisa-MobileNetV3"
      ],
      "execution_count": 0,
      "outputs": []
    },
    {
      "cell_type": "code",
      "metadata": {
        "id": "VX6EsrGolw0k",
        "colab_type": "code",
        "colab": {}
      },
      "source": [
        "%load_ext tensorboard\n",
        "%tensorboard --logdir /content/project/output"
      ],
      "execution_count": 0,
      "outputs": []
    },
    {
      "cell_type": "code",
      "metadata": {
        "id": "w1m1grdxGS-D",
        "colab_type": "code",
        "colab": {}
      },
      "source": [
        ""
      ],
      "execution_count": 0,
      "outputs": []
    }
  ]
}