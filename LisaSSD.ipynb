{
  "nbformat": 4,
  "nbformat_minor": 0,
  "metadata": {
    "colab": {
      "name": "LisaSSD.ipynb",
      "provenance": []
    },
    "kernelspec": {
      "name": "python3",
      "display_name": "Python 3"
    },
    "accelerator": "GPU"
  },
  "cells": [
    {
      "cell_type": "code",
      "metadata": {
        "id": "9xVt_qn3hVrM",
        "colab_type": "code",
        "colab": {}
      },
      "source": [
        "# Gdrive Linking and symbolic\n",
        "import os\n",
        "from google.colab import drive\n",
        "drive.mount('/content/drive')\n",
        "os.symlink('/content/drive/My Drive/LisaSSD', '/content/project')"
      ],
      "execution_count": 0,
      "outputs": []
    },
    {
      "cell_type": "code",
      "metadata": {
        "id": "G-B5RpP1t2SY",
        "colab_type": "code",
        "colab": {}
      },
      "source": [
        "# Only for resume session\n",
        "%cd /content/project/models/research\n",
        "!export PYTHONPATH=$PYTHONPATH:pwd:pwd/slim\n",
        "!protoc ./object_detection/protos/*.proto --python_out=.\n",
        "!sudo python setup.py install\n",
        "\n",
        "%cd models/research/slim\n",
        "!sudo python setup.py install"
      ],
      "execution_count": 0,
      "outputs": []
    },
    {
      "cell_type": "code",
      "metadata": {
        "id": "5YloQZm_eMxK",
        "colab_type": "code",
        "colab": {}
      },
      "source": [
        "# LISA dataset prepare\n",
        "%cd /content/project\n",
        "!wget http://cvrr.ucsd.edu/LISA/Datasets/signDatabasePublicFramesOnly.zip\n",
        "!git clone https://github.com/sooxt98/Lisa-MobileNetV3\n",
        "!mkdir lisa\n",
        "!unzip signDatabasePublicFramesOnly.zip -d lisa\n",
        "\n",
        "# tensor setup for LISA\n",
        "!git clone https://github.com/tensorflow/models/\n",
        "!cd models/research && export PYTHONPATH=$PYTHONPATH:pwd:pwd/slim\n",
        "!cd models/research && protoc ./object_detection/protos/*.proto --python_out=.\n",
        "!cd models/research && sudo python setup.py install\n",
        "!cd models/research/slim && sudo python setup.py install"
      ],
      "execution_count": 0,
      "outputs": []
    },
    {
      "cell_type": "code",
      "metadata": {
        "id": "Oe-SvP5OeMzj",
        "colab_type": "code",
        "colab": {}
      },
      "source": [
        "# generate TFrecord\n",
        "!mkdir output\n",
        "!cd Lisa-MobileNetV3 && python ./create_lisa_tfrecords.py --data_dir=../lisa --output_dir=../output --label_map_path=./lisa_label_map.pbtxt"
      ],
      "execution_count": 0,
      "outputs": []
    },
    {
      "cell_type": "code",
      "metadata": {
        "id": "dbUQgKyMeM57",
        "colab_type": "code",
        "colab": {}
      },
      "source": [
        "# Tensorboard <3\n",
        "%load_ext tensorboard"
      ],
      "execution_count": 0,
      "outputs": []
    },
    {
      "cell_type": "code",
      "metadata": {
        "id": "2Bz2UY5oeM-9",
        "colab_type": "code",
        "colab": {}
      },
      "source": [
        "%tensorboard --logdir /content/project/output"
      ],
      "execution_count": 0,
      "outputs": []
    },
    {
      "cell_type": "code",
      "metadata": {
        "id": "xM7jT9QWeM2V",
        "colab_type": "code",
        "colab": {}
      },
      "source": [
        "# Let's train with GPU\n",
        "%%shell\n",
        "PIPELINE_CONFIG_PATH=/content/project/Lisa-MobileNetV3/ssdlite_mobilenet_v3_large_320x320_coco.config\n",
        "MODEL_DIR=/content/project/output\n",
        "NUM_TRAIN_STEPS=50000\n",
        "SAMPLE_1_OF_N_EVAL_EXAMPLES=1\n",
        "python /content/project/models/research/object_detection/model_main.py \\\n",
        "    --pipeline_config_path=${PIPELINE_CONFIG_PATH} \\\n",
        "    --model_dir=${MODEL_DIR} \\\n",
        "    --num_train_steps=${NUM_TRAIN_STEPS} \\\n",
        "    --sample_1_of_n_eval_examples=$SAMPLE_1_OF_N_EVAL_EXAMPLES \\\n",
        "    --alsologtostderr"
      ],
      "execution_count": 0,
      "outputs": []
    },
    {
      "cell_type": "code",
      "metadata": {
        "id": "D0xaJ7VWt0u5",
        "colab_type": "code",
        "colab": {}
      },
      "source": [
        ""
      ],
      "execution_count": 0,
      "outputs": []
    },
    {
      "cell_type": "code",
      "metadata": {
        "id": "xhGhz7ayeY9o",
        "colab_type": "code",
        "colab": {}
      },
      "source": [
        "# misc\n",
        "!rm -rf Lisa-MobileNetV3\n",
        "!git clone https://github.com/sooxt98/Lisa-MobileNetV3"
      ],
      "execution_count": 0,
      "outputs": []
    },
    {
      "cell_type": "code",
      "metadata": {
        "id": "sYU5O0GXpMIv",
        "colab_type": "code",
        "colab": {}
      },
      "source": [
        ""
      ],
      "execution_count": 0,
      "outputs": []
    }
  ]
}